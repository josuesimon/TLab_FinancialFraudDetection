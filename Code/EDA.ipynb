{
 "cells": [
  {
   "cell_type": "code",
   "execution_count": 43,
   "metadata": {},
   "outputs": [],
   "source": [
    "# We will import the necessary libraries we will be needing to perform our EDA's below.\n",
    "import pandas as pd\n",
    "import matplotlib.pyplot as plt\n",
    "import seaborn as sns\n",
    "import os"
   ]
  },
  {
   "cell_type": "code",
   "execution_count": 45,
   "metadata": {},
   "outputs": [
    {
     "data": {
      "text/html": [
       "<div>\n",
       "<style scoped>\n",
       "    .dataframe tbody tr th:only-of-type {\n",
       "        vertical-align: middle;\n",
       "    }\n",
       "\n",
       "    .dataframe tbody tr th {\n",
       "        vertical-align: top;\n",
       "    }\n",
       "\n",
       "    .dataframe thead th {\n",
       "        text-align: right;\n",
       "    }\n",
       "</style>\n",
       "<table border=\"1\" class=\"dataframe\">\n",
       "  <thead>\n",
       "    <tr style=\"text-align: right;\">\n",
       "      <th></th>\n",
       "      <th>step</th>\n",
       "      <th>type</th>\n",
       "      <th>amount</th>\n",
       "      <th>nameOrig</th>\n",
       "      <th>oldbalanceOrg</th>\n",
       "      <th>newbalanceOrig</th>\n",
       "      <th>nameDest</th>\n",
       "      <th>oldbalanceDest</th>\n",
       "      <th>newbalanceDest</th>\n",
       "      <th>isFraud</th>\n",
       "      <th>isFlaggedFraud</th>\n",
       "    </tr>\n",
       "  </thead>\n",
       "  <tbody>\n",
       "    <tr>\n",
       "      <th>0</th>\n",
       "      <td>1</td>\n",
       "      <td>PAYMENT</td>\n",
       "      <td>9839.64</td>\n",
       "      <td>C1231006815</td>\n",
       "      <td>170136.0</td>\n",
       "      <td>160296.36</td>\n",
       "      <td>M1979787155</td>\n",
       "      <td>0.0</td>\n",
       "      <td>0.0</td>\n",
       "      <td>0</td>\n",
       "      <td>0</td>\n",
       "    </tr>\n",
       "    <tr>\n",
       "      <th>1</th>\n",
       "      <td>1</td>\n",
       "      <td>PAYMENT</td>\n",
       "      <td>1864.28</td>\n",
       "      <td>C1666544295</td>\n",
       "      <td>21249.0</td>\n",
       "      <td>19384.72</td>\n",
       "      <td>M2044282225</td>\n",
       "      <td>0.0</td>\n",
       "      <td>0.0</td>\n",
       "      <td>0</td>\n",
       "      <td>0</td>\n",
       "    </tr>\n",
       "    <tr>\n",
       "      <th>2</th>\n",
       "      <td>1</td>\n",
       "      <td>TRANSFER</td>\n",
       "      <td>181.00</td>\n",
       "      <td>C1305486145</td>\n",
       "      <td>181.0</td>\n",
       "      <td>0.00</td>\n",
       "      <td>C553264065</td>\n",
       "      <td>0.0</td>\n",
       "      <td>0.0</td>\n",
       "      <td>1</td>\n",
       "      <td>0</td>\n",
       "    </tr>\n",
       "    <tr>\n",
       "      <th>3</th>\n",
       "      <td>1</td>\n",
       "      <td>CASH_OUT</td>\n",
       "      <td>181.00</td>\n",
       "      <td>C840083671</td>\n",
       "      <td>181.0</td>\n",
       "      <td>0.00</td>\n",
       "      <td>C38997010</td>\n",
       "      <td>21182.0</td>\n",
       "      <td>0.0</td>\n",
       "      <td>1</td>\n",
       "      <td>0</td>\n",
       "    </tr>\n",
       "    <tr>\n",
       "      <th>4</th>\n",
       "      <td>1</td>\n",
       "      <td>PAYMENT</td>\n",
       "      <td>11668.14</td>\n",
       "      <td>C2048537720</td>\n",
       "      <td>41554.0</td>\n",
       "      <td>29885.86</td>\n",
       "      <td>M1230701703</td>\n",
       "      <td>0.0</td>\n",
       "      <td>0.0</td>\n",
       "      <td>0</td>\n",
       "      <td>0</td>\n",
       "    </tr>\n",
       "  </tbody>\n",
       "</table>\n",
       "</div>"
      ],
      "text/plain": [
       "   step      type    amount     nameOrig  oldbalanceOrg  newbalanceOrig  \\\n",
       "0     1   PAYMENT   9839.64  C1231006815       170136.0       160296.36   \n",
       "1     1   PAYMENT   1864.28  C1666544295        21249.0        19384.72   \n",
       "2     1  TRANSFER    181.00  C1305486145          181.0            0.00   \n",
       "3     1  CASH_OUT    181.00   C840083671          181.0            0.00   \n",
       "4     1   PAYMENT  11668.14  C2048537720        41554.0        29885.86   \n",
       "\n",
       "      nameDest  oldbalanceDest  newbalanceDest  isFraud  isFlaggedFraud  \n",
       "0  M1979787155             0.0             0.0        0               0  \n",
       "1  M2044282225             0.0             0.0        0               0  \n",
       "2   C553264065             0.0             0.0        1               0  \n",
       "3    C38997010         21182.0             0.0        1               0  \n",
       "4  M1230701703             0.0             0.0        0               0  "
      ]
     },
     "execution_count": 45,
     "metadata": {},
     "output_type": "execute_result"
    }
   ],
   "source": [
    "# This first line will grab the fraud_data.csv file from the Data folder and we will display\n",
    "# The first few rows of the data frame\n",
    "df = pd.read_csv('../Data/fraud_data.csv')\n",
    "df.head()"
   ]
  },
  {
   "cell_type": "code",
   "execution_count": 46,
   "metadata": {},
   "outputs": [
    {
     "name": "stdout",
     "output_type": "stream",
     "text": [
      "               step        amount  oldbalanceOrg  newbalanceOrig  \\\n",
      "count  6.362620e+06  6.362620e+06   6.362620e+06    6.362620e+06   \n",
      "mean   2.433972e+02  1.798619e+05   8.338831e+05    8.551137e+05   \n",
      "std    1.423320e+02  6.038582e+05   2.888243e+06    2.924049e+06   \n",
      "min    1.000000e+00  0.000000e+00   0.000000e+00    0.000000e+00   \n",
      "25%    1.560000e+02  1.338957e+04   0.000000e+00    0.000000e+00   \n",
      "50%    2.390000e+02  7.487194e+04   1.420800e+04    0.000000e+00   \n",
      "75%    3.350000e+02  2.087215e+05   1.073152e+05    1.442584e+05   \n",
      "max    7.430000e+02  9.244552e+07   5.958504e+07    4.958504e+07   \n",
      "\n",
      "       oldbalanceDest  newbalanceDest       isFraud  isFlaggedFraud  \n",
      "count    6.362620e+06    6.362620e+06  6.362620e+06    6.362620e+06  \n",
      "mean     1.100702e+06    1.224996e+06  1.290820e-03    2.514687e-06  \n",
      "std      3.399180e+06    3.674129e+06  3.590480e-02    1.585775e-03  \n",
      "min      0.000000e+00    0.000000e+00  0.000000e+00    0.000000e+00  \n",
      "25%      0.000000e+00    0.000000e+00  0.000000e+00    0.000000e+00  \n",
      "50%      1.327057e+05    2.146614e+05  0.000000e+00    0.000000e+00  \n",
      "75%      9.430367e+05    1.111909e+06  0.000000e+00    0.000000e+00  \n",
      "max      3.560159e+08    3.561793e+08  1.000000e+00    1.000000e+00  \n"
     ]
    }
   ],
   "source": [
    "# Describe will allow us to view the basic statistical items regarding our data\n",
    "print(df.describe())"
   ]
  },
  {
   "cell_type": "code",
   "execution_count": 47,
   "metadata": {},
   "outputs": [],
   "source": [
    "# In order to create a cleaner look, we will be creating an image folder called Images, all of our graphs will be saved here\n",
    "if not os.path.exists('../Images'):\n",
    "    os.makedirs('../Images')"
   ]
  },
  {
   "cell_type": "code",
   "execution_count": 48,
   "metadata": {},
   "outputs": [
    {
     "name": "stdout",
     "output_type": "stream",
     "text": [
      "Missing values in each column:\n",
      "step              0\n",
      "type              0\n",
      "amount            0\n",
      "nameOrig          0\n",
      "oldbalanceOrg     0\n",
      "newbalanceOrig    0\n",
      "nameDest          0\n",
      "oldbalanceDest    0\n",
      "newbalanceDest    0\n",
      "isFraud           0\n",
      "isFlaggedFraud    0\n",
      "dtype: int64\n"
     ]
    }
   ],
   "source": [
    "# Before we begin performing EDA, we will be reviewing our data to see if there are any missing values. \n",
    "# We will use the `isnull()` function to check for missing values in our data and sum up the total number of missing values in each column.\n",
    "print(\"Missing values in each column:\")\n",
    "print(df.isnull().sum())"
   ]
  },
  {
   "cell_type": "code",
   "execution_count": 49,
   "metadata": {},
   "outputs": [],
   "source": [
    "# This will provide us with a histogram that will display the Distribution of Transaction Amounts \n",
    "plt.figure(figsize=(12, 6))\n",
    "plt.hist(df['amount'], bins=50, color='orange', edgecolor='orange')\n",
    "plt.title('Distribution of Transaction Amounts')\n",
    "plt.xlabel('Amount')\n",
    "plt.ylabel('Frequency')\n",
    "plt.grid(axis='y', alpha=0.75)\n",
    "plt.savefig('../Images/01_Distribution_of_Transaction_Amounts.png')\n",
    "plt.close()"
   ]
  },
  {
   "cell_type": "code",
   "execution_count": 50,
   "metadata": {},
   "outputs": [
    {
     "name": "stderr",
     "output_type": "stream",
     "text": [
      "/var/folders/2r/q9fqj_cn30nfpjvb54gvk2d40000gn/T/ipykernel_9897/354559313.py:3: FutureWarning: \n",
      "\n",
      "Passing `palette` without assigning `hue` is deprecated and will be removed in v0.14.0. Assign the `x` variable to `hue` and set `legend=False` for the same effect.\n",
      "\n",
      "  sns.countplot(data=df, x='type', palette='pastel')\n"
     ]
    }
   ],
   "source": [
    "# This will provide us with a count plot that will display the Transaction Types Distribution across the different Transaction Types.\n",
    "plt.figure(figsize=(12, 6))\n",
    "sns.countplot(data=df, x='type', palette='pastel')\n",
    "plt.title('Transaction Types Distribution')\n",
    "plt.xlabel('Transaction Type')\n",
    "plt.ylabel('Count')\n",
    "plt.savefig('../Images/02_Transaction_Types_Distribution.png')\n",
    "plt.close()"
   ]
  },
  {
   "cell_type": "code",
   "execution_count": 51,
   "metadata": {},
   "outputs": [
    {
     "name": "stderr",
     "output_type": "stream",
     "text": [
      "/var/folders/2r/q9fqj_cn30nfpjvb54gvk2d40000gn/T/ipykernel_9897/2519331895.py:3: FutureWarning: \n",
      "\n",
      "Passing `palette` without assigning `hue` is deprecated and will be removed in v0.14.0. Assign the `x` variable to `hue` and set `legend=False` for the same effect.\n",
      "\n",
      "  sns.countplot(data=df, x='isFraud', palette='pastel')\n"
     ]
    }
   ],
   "source": [
    "# This will provide us with a count plot that will display count of fradulent counts, creating a Distribution of Fraudilent Transactions\n",
    "plt.figure(figsize=(12, 6))\n",
    "sns.countplot(data=df, x='isFraud', palette='pastel')\n",
    "plt.title('Distribution of Fraudulent Transactions')\n",
    "plt.xlabel('Is Fraud')\n",
    "plt.ylabel('Count')\n",
    "plt.xticks(ticks=[0, 1], labels=['Not Fraud', 'Fraud'])\n",
    "plt.savefig('../Images/03_Distribution_of_Fraudulent_Distribution.png')\n",
    "plt.close()"
   ]
  },
  {
   "cell_type": "code",
   "execution_count": 52,
   "metadata": {},
   "outputs": [
    {
     "name": "stderr",
     "output_type": "stream",
     "text": [
      "/var/folders/2r/q9fqj_cn30nfpjvb54gvk2d40000gn/T/ipykernel_9897/1346196864.py:3: FutureWarning: \n",
      "\n",
      "Passing `palette` without assigning `hue` is deprecated and will be removed in v0.14.0. Assign the `x` variable to `hue` and set `legend=False` for the same effect.\n",
      "\n",
      "  sns.boxplot(data=df, x='isFraud', y='amount', palette='pastel')\n"
     ]
    }
   ],
   "source": [
    "# This will provide us with a box plot that will display the Transaction Amounts, comparing the amount of what is not fraud and what is fraud\n",
    "plt.figure(figsize=(12, 6))\n",
    "sns.boxplot(data=df, x='isFraud', y='amount', palette='pastel')\n",
    "plt.title('Fraud vs. Not Fraud')\n",
    "plt.xlabel('Is Fraud')\n",
    "plt.ylabel('Transaction Amount')\n",
    "plt.xticks(ticks=[0, 1], labels=['Not Fraud', 'Fraud'])\n",
    "plt.savefig('../Images/04_Fraud_vs_Not_Fraud.png')\n",
    "plt.close()"
   ]
  },
  {
   "cell_type": "code",
   "execution_count": 53,
   "metadata": {},
   "outputs": [],
   "source": [
    "# This will provide us with a scatter plot that will display the Old Balance vs the New Balance of Fraud Status of fraud cases\n",
    "plt.figure(figsize=(12, 6))\n",
    "sns.scatterplot(data=df, x='oldbalanceOrg', y='newbalanceOrig', hue='isFraud', alpha=0.6, palette='pastel')\n",
    "plt.title('Old Balance vs. New Balance (Colored by Fraud Status)')\n",
    "plt.xlabel('Old Balance')\n",
    "plt.ylabel('New Balance')\n",
    "plt.legend(title='Is Fraud', loc='upper left', labels=['Not Fraud', 'Fraud'])\n",
    "plt.savefig('../Images/05_Old_Balance_vs_New_Balance.png')\n",
    "plt.close()"
   ]
  },
  {
   "cell_type": "code",
   "execution_count": 54,
   "metadata": {},
   "outputs": [],
   "source": [
    "# This will provide us with a Correlation Heatmap that will select only numeric columns\n",
    "plt.figure(figsize=(10, 8))\n",
    "numeric_df = df.select_dtypes(include=['number'])\n",
    "correlation_matrix = numeric_df.corr()\n",
    "sns.heatmap(correlation_matrix, annot=True, fmt=\".2f\", cmap='coolwarm', square=True)\n",
    "plt.title('Correlation Heatmap')\n",
    "plt.savefig('../Images/06_Correlation_Heatmap.png')\n",
    "plt.close()"
   ]
  },
  {
   "cell_type": "code",
   "execution_count": 55,
   "metadata": {},
   "outputs": [],
   "source": [
    "# This will provide us with a Pairplot for these three features: oldBbalanceOrg, newbalanceoRIG and isFraud\n",
    "selected_features = df[['amount', 'oldbalanceOrg', 'newbalanceOrig', 'isFraud']]\n",
    "sns.pairplot(selected_features, hue='isFraud', palette='pastel')\n",
    "plt.title('Pairplot of Selected Features')\n",
    "plt.savefig('../Images/07_Pairplot_Selected_Features.png')\n",
    "plt.close()"
   ]
  },
  {
   "cell_type": "code",
   "execution_count": 56,
   "metadata": {},
   "outputs": [],
   "source": [
    "# This will provide us with a time series analysis with inputs that are integars \n",
    "plt.figure(figsize=(12, 6))\n",
    "df['step'] = df['step'].astype(int) \n",
    "fraud_counts = df[df['isFraud'] == 1].groupby('step').size()\n",
    "total_counts = df.groupby('step').size()\n",
    "\n",
    "plt.plot(total_counts.index, total_counts, label='Total Transactions', color='blue')\n",
    "plt.plot(fraud_counts.index, fraud_counts, label='Fraudulent Transactions', color='red')\n",
    "plt.title('Transactions Over Time')\n",
    "plt.xlabel('Time Step')\n",
    "plt.ylabel('Number of Transactions')\n",
    "plt.legend()\n",
    "plt.savefig('../Images/08_Transactions_Over_Time.png')\n",
    "plt.close()"
   ]
  },
  {
   "cell_type": "code",
   "execution_count": 57,
   "metadata": {},
   "outputs": [
    {
     "name": "stderr",
     "output_type": "stream",
     "text": [
      "/var/folders/2r/q9fqj_cn30nfpjvb54gvk2d40000gn/T/ipykernel_9897/3041798026.py:7: FutureWarning: \n",
      "\n",
      "Passing `palette` without assigning `hue` is deprecated and will be removed in v0.14.0. Assign the `x` variable to `hue` and set `legend=False` for the same effect.\n",
      "\n",
      "  sns.barplot(data=account_fraud_counts.sort_values(by='fraud_rate', ascending=False).head(20),\n"
     ]
    }
   ],
   "source": [
    "# This will provide us with the fraud detection by account\n",
    "account_fraud_counts = df.groupby('nameOrig')['isFraud'].agg(['count', 'sum']).reset_index()\n",
    "account_fraud_counts.columns = ['account', 'total_transactions', 'fraudulent_transactions']\n",
    "account_fraud_counts['fraud_rate'] = account_fraud_counts['fraudulent_transactions'] / account_fraud_counts['total_transactions']\n",
    "\n",
    "plt.figure(figsize=(12, 6))\n",
    "sns.barplot(data=account_fraud_counts.sort_values(by='fraud_rate', ascending=False).head(20), \n",
    "            x='account', y='fraud_rate', palette='viridis')\n",
    "plt.title('Top 20 Accounts by Fraud Rate')\n",
    "plt.xlabel('Account')\n",
    "plt.ylabel('Fraud Rate')\n",
    "plt.xticks(rotation=90)\n",
    "plt.savefig('../Images/09_Top_Accounts_by_Fraud_Rate.png')\n",
    "plt.close()"
   ]
  }
 ],
 "metadata": {
  "kernelspec": {
   "display_name": "Python 3",
   "language": "python",
   "name": "python3"
  },
  "language_info": {
   "codemirror_mode": {
    "name": "ipython",
    "version": 3
   },
   "file_extension": ".py",
   "mimetype": "text/x-python",
   "name": "python",
   "nbconvert_exporter": "python",
   "pygments_lexer": "ipython3",
   "version": "3.13.0"
  }
 },
 "nbformat": 4,
 "nbformat_minor": 2
}
